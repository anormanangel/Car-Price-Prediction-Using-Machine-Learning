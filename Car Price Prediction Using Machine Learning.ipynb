{
 "cells": [
  {
   "cell_type": "markdown",
   "id": "d6ae798a",
   "metadata": {},
   "source": [
    "<h1 align=center><font size = 5>Car Price prediction Using Machine Learning</font></h1>\n",
    "<h1 align=center><font size = 4>By</font></h1>\n",
    "<h1 align=center><font size = 4>Norman Angel Agong</font></h1>\n",
    "<h1 align=center><font size = 4>anormanangel@gmail.com</font></h1>\n",
    "</font></h1>\n",
    "\n",
    "### Problem statement\n",
    "\n",
    "To develop a car price predition model."
   ]
  },
  {
   "cell_type": "markdown",
   "id": "d0df4a34",
   "metadata": {},
   "source": [
    "## Machine learning  Development Cycle\n",
    "\n",
    "1. Problem Defination\n",
    "2. Data Collection\n",
    "3. Data cleaning and Preprocessing\n",
    "4. Feature Engineering and Selection\n",
    "5. EDA\n",
    "6. Model selection\n",
    "7. Evaluation Model\n",
    "8. Model Deployment"
   ]
  },
  {
   "cell_type": "code",
   "execution_count": 3,
   "id": "00491bea-2b2a-484b-bbcd-b542b95e7e2d",
   "metadata": {},
   "outputs": [],
   "source": [
    "#Import Packages\n",
    "\n",
    "import pandas as pd\n",
    "import numpy  as np\n",
    "\n",
    "import seaborn as sns\n",
    "import matplotlib.pyplot as plt\n",
    "\n",
    "\n",
    "import warnings\n",
    "warnings.filterwarnings('ignore')"
   ]
  },
  {
   "cell_type": "code",
   "execution_count": 4,
   "id": "a8427a1f-3d29-4ec7-9138-e6fec2498cac",
   "metadata": {},
   "outputs": [],
   "source": [
    "# Read \n",
    "\n",
    "df = pd.read_csv('https://raw.githubusercontent.com/NUELBUNDI/Machine-Learning-Data-Set/main/ford.csv')"
   ]
  },
  {
   "cell_type": "code",
   "execution_count": 5,
   "id": "fca73c01-03a3-4688-b1b9-f9a46124f194",
   "metadata": {},
   "outputs": [
    {
     "name": "stdout",
     "output_type": "stream",
     "text": [
      "No of rows : 17966\n",
      "No of Columns :9\n"
     ]
    }
   ],
   "source": [
    "# shape\n",
    "\n",
    "rows , columns = df.shape\n",
    "\n",
    "print(f'No of rows : {rows}\\nNo of Columns :{columns}')"
   ]
  },
  {
   "cell_type": "code",
   "execution_count": 6,
   "id": "7424f3bb-3aff-4b63-9c6e-7c0b35bd1dff",
   "metadata": {},
   "outputs": [
    {
     "data": {
      "text/html": [
       "<div>\n",
       "<style scoped>\n",
       "    .dataframe tbody tr th:only-of-type {\n",
       "        vertical-align: middle;\n",
       "    }\n",
       "\n",
       "    .dataframe tbody tr th {\n",
       "        vertical-align: top;\n",
       "    }\n",
       "\n",
       "    .dataframe thead th {\n",
       "        text-align: right;\n",
       "    }\n",
       "</style>\n",
       "<table border=\"1\" class=\"dataframe\">\n",
       "  <thead>\n",
       "    <tr style=\"text-align: right;\">\n",
       "      <th></th>\n",
       "      <th>model</th>\n",
       "      <th>year</th>\n",
       "      <th>price</th>\n",
       "      <th>transmission</th>\n",
       "      <th>mileage</th>\n",
       "      <th>fuelType</th>\n",
       "      <th>tax</th>\n",
       "      <th>mpg</th>\n",
       "      <th>engineSize</th>\n",
       "    </tr>\n",
       "  </thead>\n",
       "  <tbody>\n",
       "    <tr>\n",
       "      <th>6827</th>\n",
       "      <td>Fiesta</td>\n",
       "      <td>2018</td>\n",
       "      <td>9990</td>\n",
       "      <td>Manual</td>\n",
       "      <td>46240</td>\n",
       "      <td>Petrol</td>\n",
       "      <td>145</td>\n",
       "      <td>56.5</td>\n",
       "      <td>1.0</td>\n",
       "    </tr>\n",
       "    <tr>\n",
       "      <th>12387</th>\n",
       "      <td>Grand C-MAX</td>\n",
       "      <td>2016</td>\n",
       "      <td>10800</td>\n",
       "      <td>Manual</td>\n",
       "      <td>33212</td>\n",
       "      <td>Diesel</td>\n",
       "      <td>30</td>\n",
       "      <td>64.2</td>\n",
       "      <td>1.5</td>\n",
       "    </tr>\n",
       "    <tr>\n",
       "      <th>9750</th>\n",
       "      <td>B-MAX</td>\n",
       "      <td>2015</td>\n",
       "      <td>8500</td>\n",
       "      <td>Manual</td>\n",
       "      <td>27501</td>\n",
       "      <td>Petrol</td>\n",
       "      <td>30</td>\n",
       "      <td>57.7</td>\n",
       "      <td>1.0</td>\n",
       "    </tr>\n",
       "  </tbody>\n",
       "</table>\n",
       "</div>"
      ],
      "text/plain": [
       "              model  year  price transmission  mileage fuelType  tax   mpg  \\\n",
       "6827         Fiesta  2018   9990       Manual    46240   Petrol  145  56.5   \n",
       "12387   Grand C-MAX  2016  10800       Manual    33212   Diesel   30  64.2   \n",
       "9750          B-MAX  2015   8500       Manual    27501   Petrol   30  57.7   \n",
       "\n",
       "       engineSize  \n",
       "6827          1.0  \n",
       "12387         1.5  \n",
       "9750          1.0  "
      ]
     },
     "execution_count": 6,
     "metadata": {},
     "output_type": "execute_result"
    }
   ],
   "source": [
    "# display a sample of 3 rows\n",
    "\n",
    "df.sample(3)"
   ]
  },
  {
   "cell_type": "markdown",
   "id": "b17fe981-8705-4784-98da-333af27ece81",
   "metadata": {},
   "source": [
    "### Data Cleaning\n",
    "\n",
    " - Detect and Treat Missing Nos\n",
    " - Outlier Detection and Handling\n",
    " - Dealing with Duplicates\n",
    " - Handling Inconsistent Data\n",
    " - Dealing with Data Redundancy\n",
    " - Handling Inconsistent Naming Conventions\n",
    " - Data Formating\n",
    " "
   ]
  },
  {
   "cell_type": "code",
   "execution_count": 7,
   "id": "e6471268-52df-4abc-b42e-4470c2b94e28",
   "metadata": {},
   "outputs": [
    {
     "name": "stdout",
     "output_type": "stream",
     "text": [
      "<class 'pandas.core.frame.DataFrame'>\n",
      "RangeIndex: 17966 entries, 0 to 17965\n",
      "Data columns (total 9 columns):\n",
      " #   Column        Non-Null Count  Dtype  \n",
      "---  ------        --------------  -----  \n",
      " 0   model         17966 non-null  object \n",
      " 1   year          17966 non-null  int64  \n",
      " 2   price         17966 non-null  int64  \n",
      " 3   transmission  17966 non-null  object \n",
      " 4   mileage       17966 non-null  int64  \n",
      " 5   fuelType      17966 non-null  object \n",
      " 6   tax           17966 non-null  int64  \n",
      " 7   mpg           17966 non-null  float64\n",
      " 8   engineSize    17966 non-null  float64\n",
      "dtypes: float64(2), int64(4), object(3)\n",
      "memory usage: 1.2+ MB\n"
     ]
    }
   ],
   "source": [
    "# Check the format\n",
    "\n",
    "df.info()"
   ]
  },
  {
   "cell_type": "code",
   "execution_count": 10,
   "id": "a85a7282-a77e-4b70-89ea-9fd5aa3c97da",
   "metadata": {},
   "outputs": [
    {
     "data": {
      "image/png": "[encoded data removed]",
      "text/plain": [
       "<Figure size 576x432 with 3 Axes>"
      ]
     },
     "metadata": {
      "needs_background": "light"
     },
     "output_type": "display_data"
    }
   ],
   "source": [
    "# check for missing Nos\n",
    "\n",
    "import missingno as mn\n",
    "\n",
    "# Assuming df is your DataFrame\n",
    "fig, ax = plt.subplots(figsize=(8, 6))  # Adjust the values (width, height) as needed\n",
    "mn.bar(df, ax=ax)\n",
    "\n",
    "# Show the plot\n",
    "plt.show()"
   ]
  },
  {
   "cell_type": "code",
   "execution_count": 11,
   "id": "c21bc218-d480-41b9-9743-671b0c0a2152",
   "metadata": {},
   "outputs": [
    {
     "data": {
      "image/png": "[encoded data removed]",
      "text/plain": [
       "<Figure size 432x288 with 1 Axes>"
      ]
     },
     "metadata": {
      "needs_background": "light"
     },
     "output_type": "display_data"
    },
    {
     "data": {
      "image/png": "[encoded data removed]",
      "text/plain": [
       "<Figure size 432x288 with 1 Axes>"
      ]
     },
     "metadata": {
      "needs_background": "light"
     },
     "output_type": "display_data"
    },
    {
     "data": {
      "image/png": "[encoded data removed]",
      "text/plain": [
       "<Figure size 432x288 with 1 Axes>"
      ]
     },
     "metadata": {
      "needs_background": "light"
     },
     "output_type": "display_data"
    },
    {
     "data": {
      "image/png": "[encoded data removed]",
      "text/plain": [
       "<Figure size 432x288 with 1 Axes>"
      ]
     },
     "metadata": {
      "needs_background": "light"
     },
     "output_type": "display_data"
    },
    {
     "data": {
      "image/png": "[encoded data removed]",
      "text/plain": [
       "<Figure size 432x288 with 1 Axes>"
      ]
     },
     "metadata": {
      "needs_background": "light"
     },
     "output_type": "display_data"
    }
   ],
   "source": [
    "# Check the s\n",
    "numerical_columns = df.select_dtypes(include=['float', 'int']).columns.tolist()\n",
    "\n",
    "# Loop through numerical columns\n",
    "for col in numerical_columns:\n",
    "    # Exclude 'year' from box plots\n",
    "    if col != 'year':\n",
    "        # Create a box plot\n",
    "        sns.boxplot(x=df[col])\n",
    "        \n",
    "        # Set title and labels\n",
    "        plt.title(f'Boxplot for {col}')\n",
    "        plt.xlabel(col)\n",
    "        \n",
    "        # Display the plot\n",
    "        plt.show()"
   ]
  },
  {
   "cell_type": "code",
   "execution_count": null,
   "id": "23e5a08f-ebaa-4cf1-8425-d6a60a338611",
   "metadata": {},
   "outputs": [],
   "source": [
    "# # Function to Treat Outliers\n",
    "\n",
    "# def treat_outliers_with_iqr(df, numerical_columns):\n",
    "#     for col in numerical_columns:\n",
    "#         # Exclude 'year' from box plots\n",
    "#         if col != 'year':\n",
    "#             # Calculate the IQR for the column\n",
    "#             Q1 = df[col].quantile(0.25)\n",
    "#             Q3 = df[col].quantile(0.75)\n",
    "#             IQR = Q3 - Q1\n",
    "\n",
    "#             # Define the lower and upper bounds for outliers\n",
    "#             lower_bound = Q1 - 1.5 * IQR\n",
    "#             upper_bound = Q3 + 1.5 * IQR\n",
    "\n",
    "#             # Identify outliers\n",
    "#             outliers = df[(df[col] < lower_bound) | (df[col] > upper_bound)]\n",
    "\n",
    "#             # Replace outliers with NaN (you can choose a different treatment method)\n",
    "#             df[col] = df[col].mask((df[col] < lower_bound) | (df[col] > upper_bound))\n",
    "\n",
    "#             # Create a box plot after treating outliers\n",
    "#             sns.boxplot(x=df[col])\n",
    "\n",
    "#             # Set title and labels\n",
    "#             plt.title(f'Boxplot for {col} (Outliers Treated)')\n",
    "#             plt.xlabel(col)\n",
    "\n",
    "#             # Display the plot\n",
    "#             plt.show()\n"
   ]
  },
  {
   "cell_type": "markdown",
   "id": "63d7198b-497a-49ed-868f-98c5d0eaf680",
   "metadata": {},
   "source": [
    "## Exploratory Data Analysis"
   ]
  },
  {
   "cell_type": "code",
   "execution_count": 12,
   "id": "765d6c31-78bb-4f5a-8a8d-ebd9247b1473",
   "metadata": {},
   "outputs": [
    {
     "data": {
      "text/html": [
       "<div>\n",
       "<style scoped>\n",
       "    .dataframe tbody tr th:only-of-type {\n",
       "        vertical-align: middle;\n",
       "    }\n",
       "\n",
       "    .dataframe tbody tr th {\n",
       "        vertical-align: top;\n",
       "    }\n",
       "\n",
       "    .dataframe thead th {\n",
       "        text-align: right;\n",
       "    }\n",
       "</style>\n",
       "<table border=\"1\" class=\"dataframe\">\n",
       "  <thead>\n",
       "    <tr style=\"text-align: right;\">\n",
       "      <th></th>\n",
       "      <th>year</th>\n",
       "      <th>price</th>\n",
       "      <th>mileage</th>\n",
       "      <th>tax</th>\n",
       "      <th>mpg</th>\n",
       "      <th>engineSize</th>\n",
       "    </tr>\n",
       "  </thead>\n",
       "  <tbody>\n",
       "    <tr>\n",
       "      <th>count</th>\n",
       "      <td>17966.000000</td>\n",
       "      <td>17966.000000</td>\n",
       "      <td>17966.000000</td>\n",
       "      <td>17966.000000</td>\n",
       "      <td>17966.000000</td>\n",
       "      <td>17966.000000</td>\n",
       "    </tr>\n",
       "    <tr>\n",
       "      <th>mean</th>\n",
       "      <td>2016.866470</td>\n",
       "      <td>12279.534844</td>\n",
       "      <td>23362.608761</td>\n",
       "      <td>113.329456</td>\n",
       "      <td>57.906980</td>\n",
       "      <td>1.350807</td>\n",
       "    </tr>\n",
       "    <tr>\n",
       "      <th>std</th>\n",
       "      <td>2.050336</td>\n",
       "      <td>4741.343657</td>\n",
       "      <td>19472.054349</td>\n",
       "      <td>62.012456</td>\n",
       "      <td>10.125696</td>\n",
       "      <td>0.432367</td>\n",
       "    </tr>\n",
       "    <tr>\n",
       "      <th>min</th>\n",
       "      <td>1996.000000</td>\n",
       "      <td>495.000000</td>\n",
       "      <td>1.000000</td>\n",
       "      <td>0.000000</td>\n",
       "      <td>20.800000</td>\n",
       "      <td>0.000000</td>\n",
       "    </tr>\n",
       "    <tr>\n",
       "      <th>25%</th>\n",
       "      <td>2016.000000</td>\n",
       "      <td>8999.000000</td>\n",
       "      <td>9987.000000</td>\n",
       "      <td>30.000000</td>\n",
       "      <td>52.300000</td>\n",
       "      <td>1.000000</td>\n",
       "    </tr>\n",
       "    <tr>\n",
       "      <th>50%</th>\n",
       "      <td>2017.000000</td>\n",
       "      <td>11291.000000</td>\n",
       "      <td>18242.500000</td>\n",
       "      <td>145.000000</td>\n",
       "      <td>58.900000</td>\n",
       "      <td>1.200000</td>\n",
       "    </tr>\n",
       "    <tr>\n",
       "      <th>75%</th>\n",
       "      <td>2018.000000</td>\n",
       "      <td>15299.000000</td>\n",
       "      <td>31060.000000</td>\n",
       "      <td>145.000000</td>\n",
       "      <td>65.700000</td>\n",
       "      <td>1.500000</td>\n",
       "    </tr>\n",
       "    <tr>\n",
       "      <th>max</th>\n",
       "      <td>2060.000000</td>\n",
       "      <td>54995.000000</td>\n",
       "      <td>177644.000000</td>\n",
       "      <td>580.000000</td>\n",
       "      <td>201.800000</td>\n",
       "      <td>5.000000</td>\n",
       "    </tr>\n",
       "  </tbody>\n",
       "</table>\n",
       "</div>"
      ],
      "text/plain": [
       "               year         price        mileage           tax           mpg  \\\n",
       "count  17966.000000  17966.000000   17966.000000  17966.000000  17966.000000   \n",
       "mean    2016.866470  12279.534844   23362.608761    113.329456     57.906980   \n",
       "std        2.050336   4741.343657   19472.054349     62.012456     10.125696   \n",
       "min     1996.000000    495.000000       1.000000      0.000000     20.800000   \n",
       "25%     2016.000000   8999.000000    9987.000000     30.000000     52.300000   \n",
       "50%     2017.000000  11291.000000   18242.500000    145.000000     58.900000   \n",
       "75%     2018.000000  15299.000000   31060.000000    145.000000     65.700000   \n",
       "max     2060.000000  54995.000000  177644.000000    580.000000    201.800000   \n",
       "\n",
       "         engineSize  \n",
       "count  17966.000000  \n",
       "mean       1.350807  \n",
       "std        0.432367  \n",
       "min        0.000000  \n",
       "25%        1.000000  \n",
       "50%        1.200000  \n",
       "75%        1.500000  \n",
       "max        5.000000  "
      ]
     },
     "execution_count": 12,
     "metadata": {},
     "output_type": "execute_result"
    }
   ],
   "source": [
    "# Summary statistics\n",
    "df.describe()"
   ]
  },
  {
   "cell_type": "code",
   "execution_count": 13,
   "id": "b0aae425-05a9-4b39-b6ca-e2673e804d53",
   "metadata": {},
   "outputs": [
    {
     "data": {
      "text/html": [
       "<div>\n",
       "<style scoped>\n",
       "    .dataframe tbody tr th:only-of-type {\n",
       "        vertical-align: middle;\n",
       "    }\n",
       "\n",
       "    .dataframe tbody tr th {\n",
       "        vertical-align: top;\n",
       "    }\n",
       "\n",
       "    .dataframe thead th {\n",
       "        text-align: right;\n",
       "    }\n",
       "</style>\n",
       "<table border=\"1\" class=\"dataframe\">\n",
       "  <thead>\n",
       "    <tr style=\"text-align: right;\">\n",
       "      <th></th>\n",
       "      <th>model</th>\n",
       "      <th>year</th>\n",
       "      <th>price</th>\n",
       "      <th>transmission</th>\n",
       "      <th>mileage</th>\n",
       "      <th>fuelType</th>\n",
       "      <th>tax</th>\n",
       "      <th>mpg</th>\n",
       "      <th>engineSize</th>\n",
       "    </tr>\n",
       "  </thead>\n",
       "  <tbody>\n",
       "    <tr>\n",
       "      <th>0</th>\n",
       "      <td>Fiesta</td>\n",
       "      <td>2017</td>\n",
       "      <td>12000</td>\n",
       "      <td>Automatic</td>\n",
       "      <td>15944</td>\n",
       "      <td>Petrol</td>\n",
       "      <td>150</td>\n",
       "      <td>57.7</td>\n",
       "      <td>1.0</td>\n",
       "    </tr>\n",
       "  </tbody>\n",
       "</table>\n",
       "</div>"
      ],
      "text/plain": [
       "     model  year  price transmission  mileage fuelType  tax   mpg  engineSize\n",
       "0   Fiesta  2017  12000    Automatic    15944   Petrol  150  57.7         1.0"
      ]
     },
     "execution_count": 13,
     "metadata": {},
     "output_type": "execute_result"
    }
   ],
   "source": [
    "df.head(1)"
   ]
  },
  {
   "cell_type": "code",
   "execution_count": 14,
   "id": "9884c4ae-85ef-4806-b1de-0e47a621976e",
   "metadata": {},
   "outputs": [
    {
     "data": {
      "image/png": "[encoded data removed]",
      "text/plain": [
       "<Figure size 432x288 with 1 Axes>"
      ]
     },
     "metadata": {
      "needs_background": "light"
     },
     "output_type": "display_data"
    }
   ],
   "source": [
    "# Fuel Type Vs Mean  Price\n",
    "\n",
    "df.groupby('fuelType')['price'].mean().plot(kind='bar',title='FuelType Vs Price');"
   ]
  },
  {
   "cell_type": "code",
   "execution_count": 15,
   "id": "d3790632-74f0-4e71-817f-024c6c193d0a",
   "metadata": {},
   "outputs": [
    {
     "data": {
      "image/png": "[encoded data removed]",
      "text/plain": [
       "<Figure size 432x288 with 1 Axes>"
      ]
     },
     "metadata": {
      "needs_background": "light"
     },
     "output_type": "display_data"
    }
   ],
   "source": [
    "# Transmission Vs Price\n",
    "df.groupby('transmission')['price'].mean().plot(kind='bar',title=' Transmission Vs Price');"
   ]
  },
  {
   "cell_type": "code",
   "execution_count": 16,
   "id": "c5692be5-70e4-4a99-a44f-f3a1293d690f",
   "metadata": {},
   "outputs": [
    {
     "data": {
      "image/png": "[encoded data removed]",
      "text/plain": [
       "<Figure size 576x432 with 2 Axes>"
      ]
     },
     "metadata": {
      "needs_background": "light"
     },
     "output_type": "display_data"
    }
   ],
   "source": [
    "#Correlation\n",
    "\n",
    "plt.figure(figsize=(8,6))\n",
    "sns.heatmap(df.corr(method='pearson'), cmap='Blues', annot=True);"
   ]
  },
  {
   "cell_type": "markdown",
   "id": "d5f1e12b-f58d-460e-828a-43120f4ed6f6",
   "metadata": {},
   "source": [
    "## Feature Engineering"
   ]
  },
  {
   "cell_type": "code",
   "execution_count": 17,
   "id": "4e582341-1470-48c3-8092-dd02d6199c8e",
   "metadata": {},
   "outputs": [
    {
     "name": "stdout",
     "output_type": "stream",
     "text": [
      "Unique Values of col model is 24\n",
      "Unique Values of col year is 23\n",
      "Unique Values of col price is 3511\n",
      "Unique Values of col transmission is 3\n",
      "Unique Values of col mileage is 13528\n",
      "Unique Values of col fuelType is 5\n",
      "Unique Values of col tax is 36\n",
      "Unique Values of col mpg is 90\n",
      "Unique Values of col engineSize is 16\n"
     ]
    }
   ],
   "source": [
    "# Encoding\n",
    "\n",
    "#Check the cardinality\n",
    "\n",
    "for col in df.columns:\n",
    "    print(f'Unique Values of col {col} is {df[col].nunique()}')"
   ]
  },
  {
   "cell_type": "code",
   "execution_count": 18,
   "id": "4a650a83-7cc2-431f-b8cf-66108c7b5caf",
   "metadata": {},
   "outputs": [],
   "source": [
    "categorical_cols = df.select_dtypes(include=['object']).columns.to_list()"
   ]
  },
  {
   "cell_type": "code",
   "execution_count": 19,
   "id": "5b0acba4-6731-4485-8606-3fcf674c1bd7",
   "metadata": {},
   "outputs": [
    {
     "data": {
      "text/plain": [
       "['model', 'transmission', 'fuelType']"
      ]
     },
     "execution_count": 19,
     "metadata": {},
     "output_type": "execute_result"
    }
   ],
   "source": [
    "categorical_cols"
   ]
  },
  {
   "cell_type": "code",
   "execution_count": 20,
   "id": "8664c94f-55d1-41ee-88cf-73deb559b9cf",
   "metadata": {},
   "outputs": [
    {
     "data": {
      "text/plain": [
       "array([' Fiesta', ' Focus', ' Puma', ' Kuga', ' EcoSport', ' C-MAX',\n",
       "       ' Mondeo', ' Ka+', ' Tourneo Custom', ' S-MAX', ' B-MAX', ' Edge',\n",
       "       ' Tourneo Connect', ' Grand C-MAX', ' KA', ' Galaxy', ' Mustang',\n",
       "       ' Grand Tourneo Connect', ' Fusion', ' Ranger', ' Streetka',\n",
       "       ' Escort', ' Transit Tourneo', 'Focus'], dtype=object)"
      ]
     },
     "execution_count": 20,
     "metadata": {},
     "output_type": "execute_result"
    }
   ],
   "source": [
    "df['model'].unique()"
   ]
  },
  {
   "cell_type": "code",
   "execution_count": 21,
   "id": "a994e1cd-3cf2-44a8-96de-35a08064300b",
   "metadata": {},
   "outputs": [],
   "source": [
    "onehot_encoded_df = pd.get_dummies(df, columns=categorical_cols )\n",
    "onehot_encoded_df.head(3)\n",
    "data = onehot_encoded_df"
   ]
  },
  {
   "cell_type": "markdown",
   "id": "aded7771-b746-4099-aba2-a19ef476c44e",
   "metadata": {},
   "source": [
    "#### Split the data for training"
   ]
  },
  {
   "cell_type": "code",
   "execution_count": 23,
   "id": "ca3e0f8d-3be0-4d0c-9873-03f1912eff29",
   "metadata": {},
   "outputs": [],
   "source": [
    "y = data['price']\n",
    "\n",
    "X= data.drop(columns=['price'])"
   ]
  },
  {
   "cell_type": "code",
   "execution_count": 24,
   "id": "1e3dd306-2f40-47f0-a80d-aab7624d5a94",
   "metadata": {},
   "outputs": [],
   "source": [
    "from sklearn.model_selection import train_test_split\n",
    "\n",
    "X_train, X_test, y_train, y_test = train_test_split(X, y, test_size=0.2, random_state=42)\n"
   ]
  },
  {
   "cell_type": "markdown",
   "id": "dd401969-f9cc-4f37-83e1-7f53236b4d4a",
   "metadata": {},
   "source": [
    "#### Train the model"
   ]
  },
  {
   "cell_type": "code",
   "execution_count": 25,
   "id": "648eafe2-5b2d-4940-b235-219f3ec454b5",
   "metadata": {},
   "outputs": [],
   "source": [
    "from sklearn.linear_model import LinearRegression\n",
    "from sklearn.tree import DecisionTreeRegressor\n",
    "from sklearn.ensemble import RandomForestRegressor, GradientBoostingRegressor\n",
    "from sklearn.svm import SVR\n",
    "from sklearn.neighbors import KNeighborsRegressor\n",
    "from sklearn.metrics import mean_squared_error\n"
   ]
  },
  {
   "cell_type": "code",
   "execution_count": 26,
   "id": "13c03084-0192-400e-beb7-6ba7e4e130b1",
   "metadata": {},
   "outputs": [
    {
     "name": "stdout",
     "output_type": "stream",
     "text": [
      "LinearRegression - Root Mean Squared Error: 1858.7608726633384\n",
      "DecisionTreeRegressor - Root Mean Squared Error: 1570.138881151207\n",
      "RandomForestRegressor - Root Mean Squared Error: 1256.0364098568036\n",
      "SVR - Root Mean Squared Error: 4458.743003793507\n",
      "KNeighborsRegressor - Root Mean Squared Error: 3709.282588987233\n",
      "GradientBoostingRegressor - Root Mean Squared Error: 1365.3731340416646\n"
     ]
    }
   ],
   "source": [
    "# Define a list of regression models\n",
    "models = [\n",
    "    LinearRegression(),\n",
    "    DecisionTreeRegressor(random_state=42),\n",
    "    RandomForestRegressor(random_state=42),\n",
    "    SVR(),\n",
    "    KNeighborsRegressor(),\n",
    "    GradientBoostingRegressor(),\n",
    "]\n",
    "\n",
    "# Dictionary to store models and their performance\n",
    "model_results = {}\n",
    "\n",
    "# Loop through each model\n",
    "for model in models:\n",
    "    # Train the model\n",
    "    model.fit(X_train, y_train)\n",
    "\n",
    "    # Make predictions\n",
    "    predictions = model.predict(X_test)\n",
    "\n",
    "    # Evaluate the model\n",
    "    model_name = type(model).__name__\n",
    "    mse = mean_squared_error(y_test, predictions)\n",
    "    rmse = np.sqrt(mse)\n",
    "\n",
    "    # Save model and performance in the dictionary\n",
    "    model_results[model_name] = {\n",
    "        'model': model,\n",
    "        'rmse': rmse,\n",
    "    }\n",
    "\n",
    "    print(f\"{model_name} - Root Mean Squared Error: {rmse}\")"
   ]
  },
  {
   "cell_type": "code",
   "execution_count": 27,
   "id": "72a5d7fc-c662-4ff5-bb2a-086344ee1932",
   "metadata": {},
   "outputs": [
    {
     "data": {
      "text/plain": [
       "[('RandomForestRegressor',\n",
       "  {'model': RandomForestRegressor(random_state=42),\n",
       "   'rmse': 1256.0364098568036}),\n",
       " ('GradientBoostingRegressor',\n",
       "  {'model': GradientBoostingRegressor(), 'rmse': 1365.3731340416646}),\n",
       " ('DecisionTreeRegressor',\n",
       "  {'model': DecisionTreeRegressor(random_state=42),\n",
       "   'rmse': 1570.138881151207})]"
      ]
     },
     "execution_count": 27,
     "metadata": {},
     "output_type": "execute_result"
    }
   ],
   "source": [
    "# Extract the best two models\n",
    "\n",
    "top_models = sorted(model_results.items(), key=lambda x: x[1]['rmse'])[:3]\n",
    "top_models"
   ]
  },
  {
   "cell_type": "markdown",
   "id": "283558ad-b82b-4bcd-ae27-25f5cd31ce91",
   "metadata": {},
   "source": [
    "NB. The Root Mean Squared Error (RMSE) is a measure of the average deviation between predicted and actual values"
   ]
  },
  {
   "cell_type": "markdown",
   "id": "88950bad-d29a-49f4-9d95-562bbd0561de",
   "metadata": {},
   "source": [
    "### Save the Model"
   ]
  },
  {
   "cell_type": "code",
   "execution_count": 28,
   "id": "dcf1cbea-55c1-4d50-8434-85d91920eda2",
   "metadata": {},
   "outputs": [
    {
     "name": "stdout",
     "output_type": "stream",
     "text": [
      "Top Model 1: RandomForestRegressor\n",
      "RMSE: 1256.0364098568036\n",
      "Saved as: randomforestregressor_model_1.joblib\n",
      "---\n",
      "Top Model 2: GradientBoostingRegressor\n",
      "RMSE: 1365.3731340416646\n",
      "Saved as: gradientboostingregressor_model_2.joblib\n",
      "---\n",
      "Top Model 3: DecisionTreeRegressor\n",
      "RMSE: 1570.138881151207\n",
      "Saved as: decisiontreeregressor_model_3.joblib\n",
      "---\n"
     ]
    }
   ],
   "source": [
    "import joblib\n",
    "\n",
    "for i, (model_name, result) in enumerate(top_models, 1):\n",
    "    model_filename = f'{model_name.lower().replace(\" \", \"_\")}_model_{i}.joblib'\n",
    "    joblib.dump(result['model'], model_filename)\n",
    "    print(f\"Top Model {i}: {model_name}\")\n",
    "    print(f\"RMSE: {result['rmse']}\")\n",
    "    print(f\"Saved as: {model_filename}\")\n",
    "    print(\"---\")"
   ]
  }
 ],
 "metadata": {
  "kernelspec": {
   "display_name": "Python 3 (ipykernel)",
   "language": "python",
   "name": "python3"
  },
  "language_info": {
   "codemirror_mode": {
    "name": "ipython",
    "version": 3
   },
   "file_extension": ".py",
   "mimetype": "text/x-python",
   "name": "python",
   "nbconvert_exporter": "python",
   "pygments_lexer": "ipython3",
   "version": "3.9.12"
  }
 },
 "nbformat": 4,
 "nbformat_minor": 5
}
